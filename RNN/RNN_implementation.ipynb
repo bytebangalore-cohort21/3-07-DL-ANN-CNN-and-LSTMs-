{
 "cells": [
  {
   "cell_type": "code",
   "execution_count": null,
   "metadata": {},
   "outputs": [],
   "source": [
    "## Basic RNN:  A for loop that reuses quantities computed during the previous iteration\n",
    "import numpy as np\n",
    "\n",
    "initial_state_t = 0\n",
    "for input_t in input_sequence:\n",
    "    output_t = f(input_t,initial_state_t)\n",
    "    initial_state_t = output_t\n",
    "    \n"
   ]
  },
  {
   "cell_type": "code",
   "execution_count": null,
   "metadata": {},
   "outputs": [],
   "source": [
    "initial_state_t = 0\n",
    "for input_t in input_sequence:\n",
    "    output_t = activation(dot(W,input_t)+dot(U,initial_state_t)+b)\n",
    "    initial_state_t = output_t\n",
    "    "
   ]
  },
  {
   "cell_type": "code",
   "execution_count": null,
   "metadata": {},
   "outputs": [],
   "source": [
    "timesteps = 100\n",
    "input_features = 32\n",
    "output_features = 64\n",
    "\n",
    "# 100 * 32 matrix\n",
    "inputs = np.random.random(timesteps, input_features)\n",
    "\n",
    "# initialize vector of 64 zeros\n",
    "initial_state_t = np.zeros((output_features,))\n",
    "\n",
    "W = np.random.random((output_features, input_features))\n",
    "U = np.random.random((output_features, output_features))#\n",
    "b = np.random.random((output_features))\n",
    "\n",
    "succesive_outputs = []\n",
    "for input_t in inputs:\n",
    "    output_t = np.tanh((np.dot(W,input_t)+np.dot(U,initial_state_t)+b)\n",
    "                       \n",
    "     succesive_outputs.append(output_t)\n",
    "\n",
    "final_output_sequence = np.concatenate(succesive_outputs, axis=0)"
   ]
  },
  {
   "cell_type": "code",
   "execution_count": null,
   "metadata": {},
   "outputs": [],
   "source": [
    "import pandas as pd\n",
    "\n",
    "df = "
   ]
  }
 ],
 "metadata": {
  "kernelspec": {
   "display_name": "Python 3",
   "language": "python",
   "name": "python3"
  },
  "language_info": {
   "codemirror_mode": {
    "name": "ipython",
    "version": 3
   },
   "file_extension": ".py",
   "mimetype": "text/x-python",
   "name": "python",
   "nbconvert_exporter": "python",
   "pygments_lexer": "ipython3",
   "version": "3.6.4"
  }
 },
 "nbformat": 4,
 "nbformat_minor": 2
}
