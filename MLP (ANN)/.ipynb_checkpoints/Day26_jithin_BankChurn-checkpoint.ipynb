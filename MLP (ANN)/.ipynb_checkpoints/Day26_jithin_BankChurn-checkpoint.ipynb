{
 "cells": [
  {
   "cell_type": "markdown",
   "metadata": {},
   "source": [
    "## Bank Churn Problem"
   ]
  },
  {
   "cell_type": "markdown",
   "metadata": {},
   "source": [
    "This data set is about a bank with 10000 customers, well the bank has been seeing unusual churn rates. Churn is when people leave the company and they have seen customers leaving at unusually high rates and we want to understand what is the problem is and they want to assess and address the problem. Look into the data sets and give some insights. \n",
    "\n",
    "Identify the customers who left and customers who stable using the data set. Last column tells us whether or not the person left the bank within six months.\n",
    "\n",
    "Our goal is to build a machine learning model using ANN to tell the bank which of their\n",
    "customers are at highest risk of leaving."
   ]
  },
  {
   "cell_type": "code",
   "execution_count": 161,
   "metadata": {},
   "outputs": [
    {
     "name": "stderr",
     "output_type": "stream",
     "text": [
      "/opt/usr/anaconda3/lib/python3.6/site-packages/sklearn/ensemble/weight_boosting.py:29: DeprecationWarning: numpy.core.umath_tests is an internal NumPy module and should not be imported. It will be removed in a future NumPy release.\n",
      "  from numpy.core.umath_tests import inner1d\n"
     ]
    }
   ],
   "source": [
    "import pandas as pd\n",
    "import numpy as np\n",
    "import matplotlib.pyplot as plt\n",
    "\n",
    "from sklearn.preprocessing import StandardScaler\n",
    "from sklearn.model_selection import train_test_split\n",
    "from sklearn.metrics import classification_report\n",
    "from sklearn.metrics import confusion_matrix\n",
    "from sklearn.ensemble import RandomForestClassifier\n",
    "\n",
    "from keras.models import Sequential\n",
    "from keras.layers import Dense"
   ]
  },
  {
   "cell_type": "code",
   "execution_count": 2,
   "metadata": {},
   "outputs": [],
   "source": [
    "df=pd.read_excel('train_ChurnModel.xlsx',index_col=0)"
   ]
  },
  {
   "cell_type": "markdown",
   "metadata": {},
   "source": [
    "## Data Exploration"
   ]
  },
  {
   "cell_type": "code",
   "execution_count": 3,
   "metadata": {},
   "outputs": [
    {
     "data": {
      "text/plain": [
       "CustomerId         [10000, [15634602, 15647311, 15619304, 1570135...\n",
       "Surname            [2932, [Hargrave, Hill, Onio, Boni, Mitchell, ...\n",
       "CreditScore        [460, [619, 608, 502, 699, 850, 645, 822, 376,...\n",
       "Geography                              [3, [France, Spain, Germany]]\n",
       "Gender                                           [2, [Female, Male]]\n",
       "Age                [70, [42, 41, 39, 43, 44, 50, 29, 27, 31, 24, ...\n",
       "Tenure                      [11, [2, 1, 8, 7, 4, 6, 3, 10, 5, 9, 0]]\n",
       "Balance            [6382, [0.0, 83807.86, 159660.8, 125510.82, 11...\n",
       "NumOfProducts                                      [4, [1, 3, 2, 4]]\n",
       "HasCrCard                                                [2, [1, 0]]\n",
       "IsActiveMember                                           [2, [1, 0]]\n",
       "EstimatedSalary    [9999, [101348.88, 112542.58, 113931.57, 93826...\n",
       "Exited                                                   [2, [1, 0]]\n",
       "dtype: object"
      ]
     },
     "execution_count": 3,
     "metadata": {},
     "output_type": "execute_result"
    }
   ],
   "source": [
    "df.apply(lambda x:[x.nunique(),x.unique()])"
   ]
  },
  {
   "cell_type": "code",
   "execution_count": 31,
   "metadata": {},
   "outputs": [
    {
     "name": "stdout",
     "output_type": "stream",
     "text": [
      "<class 'pandas.core.frame.DataFrame'>\n",
      "Int64Index: 10000 entries, 1 to 10000\n",
      "Data columns (total 13 columns):\n",
      "CustomerId         10000 non-null int64\n",
      "Surname            10000 non-null object\n",
      "CreditScore        10000 non-null float64\n",
      "Geography          10000 non-null object\n",
      "Gender             10000 non-null object\n",
      "Age                10000 non-null float64\n",
      "Tenure             10000 non-null float64\n",
      "Balance            10000 non-null float64\n",
      "NumOfProducts      10000 non-null int64\n",
      "HasCrCard          10000 non-null int64\n",
      "IsActiveMember     10000 non-null int64\n",
      "EstimatedSalary    10000 non-null float64\n",
      "Exited             10000 non-null int64\n",
      "dtypes: float64(5), int64(5), object(3)\n",
      "memory usage: 1.1+ MB\n"
     ]
    }
   ],
   "source": [
    "df.info()"
   ]
  },
  {
   "cell_type": "code",
   "execution_count": 32,
   "metadata": {},
   "outputs": [
    {
     "data": {
      "text/plain": [
       "CustomerId         0\n",
       "Surname            0\n",
       "CreditScore        0\n",
       "Geography          0\n",
       "Gender             0\n",
       "Age                0\n",
       "Tenure             0\n",
       "Balance            0\n",
       "NumOfProducts      0\n",
       "HasCrCard          0\n",
       "IsActiveMember     0\n",
       "EstimatedSalary    0\n",
       "Exited             0\n",
       "dtype: int64"
      ]
     },
     "execution_count": 32,
     "metadata": {},
     "output_type": "execute_result"
    }
   ],
   "source": [
    "df.isnull().sum()"
   ]
  },
  {
   "cell_type": "code",
   "execution_count": 34,
   "metadata": {},
   "outputs": [
    {
     "data": {
      "text/plain": [
       "(10000, 13)"
      ]
     },
     "execution_count": 34,
     "metadata": {},
     "output_type": "execute_result"
    }
   ],
   "source": [
    "df.shape"
   ]
  },
  {
   "cell_type": "code",
   "execution_count": 4,
   "metadata": {},
   "outputs": [
    {
     "data": {
      "text/plain": [
       "<matplotlib.axes._subplots.AxesSubplot at 0x7f61a22337f0>"
      ]
     },
     "execution_count": 4,
     "metadata": {},
     "output_type": "execute_result"
    },
    {
     "data": {
      "image/png": "[encoded data removed]",
      "text/plain": [
       "<matplotlib.figure.Figure at 0x7f61a2233da0>"
      ]
     },
     "metadata": {},
     "output_type": "display_data"
    }
   ],
   "source": [
    "df['Exited'].plot(kind='Hist')"
   ]
  },
  {
   "cell_type": "code",
   "execution_count": 5,
   "metadata": {},
   "outputs": [
    {
     "data": {
      "text/html": [
       "<div>\n",
       "<style scoped>\n",
       "    .dataframe tbody tr th:only-of-type {\n",
       "        vertical-align: middle;\n",
       "    }\n",
       "\n",
       "    .dataframe tbody tr th {\n",
       "        vertical-align: top;\n",
       "    }\n",
       "\n",
       "    .dataframe thead th {\n",
       "        text-align: right;\n",
       "    }\n",
       "</style>\n",
       "<table border=\"1\" class=\"dataframe\">\n",
       "  <thead>\n",
       "    <tr style=\"text-align: right;\">\n",
       "      <th>Exited</th>\n",
       "      <th>0</th>\n",
       "      <th>1</th>\n",
       "      <th>All</th>\n",
       "      <th>percent</th>\n",
       "    </tr>\n",
       "    <tr>\n",
       "      <th>Gender</th>\n",
       "      <th></th>\n",
       "      <th></th>\n",
       "      <th></th>\n",
       "      <th></th>\n",
       "    </tr>\n",
       "  </thead>\n",
       "  <tbody>\n",
       "    <tr>\n",
       "      <th>Female</th>\n",
       "      <td>3404</td>\n",
       "      <td>1139</td>\n",
       "      <td>4543</td>\n",
       "      <td>25.07</td>\n",
       "    </tr>\n",
       "    <tr>\n",
       "      <th>Male</th>\n",
       "      <td>4559</td>\n",
       "      <td>898</td>\n",
       "      <td>5457</td>\n",
       "      <td>16.46</td>\n",
       "    </tr>\n",
       "    <tr>\n",
       "      <th>All</th>\n",
       "      <td>7963</td>\n",
       "      <td>2037</td>\n",
       "      <td>10000</td>\n",
       "      <td>20.37</td>\n",
       "    </tr>\n",
       "  </tbody>\n",
       "</table>\n",
       "</div>"
      ],
      "text/plain": [
       "Exited     0     1    All  percent\n",
       "Gender                            \n",
       "Female  3404  1139   4543    25.07\n",
       "Male    4559   898   5457    16.46\n",
       "All     7963  2037  10000    20.37"
      ]
     },
     "execution_count": 5,
     "metadata": {},
     "output_type": "execute_result"
    }
   ],
   "source": [
    "df1=pd.pivot_table(df,index='Gender',values='CustomerId',columns='Exited',margins=True,aggfunc='count')\n",
    "df1['percent']=round(df1[1]*100/df1['All'],2)\n",
    "df1"
   ]
  },
  {
   "cell_type": "code",
   "execution_count": 6,
   "metadata": {},
   "outputs": [
    {
     "data": {
      "text/html": [
       "<div>\n",
       "<style scoped>\n",
       "    .dataframe tbody tr th:only-of-type {\n",
       "        vertical-align: middle;\n",
       "    }\n",
       "\n",
       "    .dataframe tbody tr th {\n",
       "        vertical-align: top;\n",
       "    }\n",
       "\n",
       "    .dataframe thead th {\n",
       "        text-align: right;\n",
       "    }\n",
       "</style>\n",
       "<table border=\"1\" class=\"dataframe\">\n",
       "  <thead>\n",
       "    <tr style=\"text-align: right;\">\n",
       "      <th>Exited</th>\n",
       "      <th>0</th>\n",
       "      <th>1</th>\n",
       "      <th>All</th>\n",
       "      <th>percent</th>\n",
       "    </tr>\n",
       "    <tr>\n",
       "      <th>IsActiveMember</th>\n",
       "      <th></th>\n",
       "      <th></th>\n",
       "      <th></th>\n",
       "      <th></th>\n",
       "    </tr>\n",
       "  </thead>\n",
       "  <tbody>\n",
       "    <tr>\n",
       "      <th>0</th>\n",
       "      <td>3547</td>\n",
       "      <td>1302</td>\n",
       "      <td>4849</td>\n",
       "      <td>26.85</td>\n",
       "    </tr>\n",
       "    <tr>\n",
       "      <th>1</th>\n",
       "      <td>4416</td>\n",
       "      <td>735</td>\n",
       "      <td>5151</td>\n",
       "      <td>14.27</td>\n",
       "    </tr>\n",
       "    <tr>\n",
       "      <th>All</th>\n",
       "      <td>7963</td>\n",
       "      <td>2037</td>\n",
       "      <td>10000</td>\n",
       "      <td>20.37</td>\n",
       "    </tr>\n",
       "  </tbody>\n",
       "</table>\n",
       "</div>"
      ],
      "text/plain": [
       "Exited             0     1    All  percent\n",
       "IsActiveMember                            \n",
       "0               3547  1302   4849    26.85\n",
       "1               4416   735   5151    14.27\n",
       "All             7963  2037  10000    20.37"
      ]
     },
     "execution_count": 6,
     "metadata": {},
     "output_type": "execute_result"
    }
   ],
   "source": [
    "df1=pd.pivot_table(df,index='IsActiveMember',values='CustomerId',columns='Exited',margins=True,aggfunc='count')\n",
    "df1['percent']=round(df1[1]*100/df1['All'],2)\n",
    "df1"
   ]
  },
  {
   "cell_type": "code",
   "execution_count": 7,
   "metadata": {},
   "outputs": [
    {
     "data": {
      "text/html": [
       "<div>\n",
       "<style scoped>\n",
       "    .dataframe tbody tr th:only-of-type {\n",
       "        vertical-align: middle;\n",
       "    }\n",
       "\n",
       "    .dataframe tbody tr th {\n",
       "        vertical-align: top;\n",
       "    }\n",
       "\n",
       "    .dataframe thead th {\n",
       "        text-align: right;\n",
       "    }\n",
       "</style>\n",
       "<table border=\"1\" class=\"dataframe\">\n",
       "  <thead>\n",
       "    <tr style=\"text-align: right;\">\n",
       "      <th>Exited</th>\n",
       "      <th>0</th>\n",
       "      <th>1</th>\n",
       "      <th>All</th>\n",
       "      <th>percent</th>\n",
       "    </tr>\n",
       "    <tr>\n",
       "      <th>NumOfProducts</th>\n",
       "      <th></th>\n",
       "      <th></th>\n",
       "      <th></th>\n",
       "      <th></th>\n",
       "    </tr>\n",
       "  </thead>\n",
       "  <tbody>\n",
       "    <tr>\n",
       "      <th>1</th>\n",
       "      <td>3675.0</td>\n",
       "      <td>1409.0</td>\n",
       "      <td>5084</td>\n",
       "      <td>27.71</td>\n",
       "    </tr>\n",
       "    <tr>\n",
       "      <th>2</th>\n",
       "      <td>4242.0</td>\n",
       "      <td>348.0</td>\n",
       "      <td>4590</td>\n",
       "      <td>7.58</td>\n",
       "    </tr>\n",
       "    <tr>\n",
       "      <th>3</th>\n",
       "      <td>46.0</td>\n",
       "      <td>220.0</td>\n",
       "      <td>266</td>\n",
       "      <td>82.71</td>\n",
       "    </tr>\n",
       "    <tr>\n",
       "      <th>4</th>\n",
       "      <td>NaN</td>\n",
       "      <td>60.0</td>\n",
       "      <td>60</td>\n",
       "      <td>100.00</td>\n",
       "    </tr>\n",
       "    <tr>\n",
       "      <th>All</th>\n",
       "      <td>7963.0</td>\n",
       "      <td>2037.0</td>\n",
       "      <td>10000</td>\n",
       "      <td>20.37</td>\n",
       "    </tr>\n",
       "  </tbody>\n",
       "</table>\n",
       "</div>"
      ],
      "text/plain": [
       "Exited              0       1    All  percent\n",
       "NumOfProducts                                \n",
       "1              3675.0  1409.0   5084    27.71\n",
       "2              4242.0   348.0   4590     7.58\n",
       "3                46.0   220.0    266    82.71\n",
       "4                 NaN    60.0     60   100.00\n",
       "All            7963.0  2037.0  10000    20.37"
      ]
     },
     "execution_count": 7,
     "metadata": {},
     "output_type": "execute_result"
    }
   ],
   "source": [
    "df1=pd.pivot_table(df,index='NumOfProducts',values='CustomerId',columns='Exited',margins=True,aggfunc='count')\n",
    "df1['percent']=round(df1[1]*100/df1['All'],2)\n",
    "df1"
   ]
  },
  {
   "cell_type": "code",
   "execution_count": 8,
   "metadata": {},
   "outputs": [
    {
     "data": {
      "text/html": [
       "<div>\n",
       "<style scoped>\n",
       "    .dataframe tbody tr th:only-of-type {\n",
       "        vertical-align: middle;\n",
       "    }\n",
       "\n",
       "    .dataframe tbody tr th {\n",
       "        vertical-align: top;\n",
       "    }\n",
       "\n",
       "    .dataframe thead th {\n",
       "        text-align: right;\n",
       "    }\n",
       "</style>\n",
       "<table border=\"1\" class=\"dataframe\">\n",
       "  <thead>\n",
       "    <tr style=\"text-align: right;\">\n",
       "      <th>Exited</th>\n",
       "      <th>0</th>\n",
       "      <th>1</th>\n",
       "      <th>All</th>\n",
       "      <th>percent</th>\n",
       "    </tr>\n",
       "    <tr>\n",
       "      <th>HasCrCard</th>\n",
       "      <th></th>\n",
       "      <th></th>\n",
       "      <th></th>\n",
       "      <th></th>\n",
       "    </tr>\n",
       "  </thead>\n",
       "  <tbody>\n",
       "    <tr>\n",
       "      <th>0</th>\n",
       "      <td>2332</td>\n",
       "      <td>613</td>\n",
       "      <td>2945</td>\n",
       "      <td>20.81</td>\n",
       "    </tr>\n",
       "    <tr>\n",
       "      <th>1</th>\n",
       "      <td>5631</td>\n",
       "      <td>1424</td>\n",
       "      <td>7055</td>\n",
       "      <td>20.18</td>\n",
       "    </tr>\n",
       "    <tr>\n",
       "      <th>All</th>\n",
       "      <td>7963</td>\n",
       "      <td>2037</td>\n",
       "      <td>10000</td>\n",
       "      <td>20.37</td>\n",
       "    </tr>\n",
       "  </tbody>\n",
       "</table>\n",
       "</div>"
      ],
      "text/plain": [
       "Exited        0     1    All  percent\n",
       "HasCrCard                            \n",
       "0          2332   613   2945    20.81\n",
       "1          5631  1424   7055    20.18\n",
       "All        7963  2037  10000    20.37"
      ]
     },
     "execution_count": 8,
     "metadata": {},
     "output_type": "execute_result"
    }
   ],
   "source": [
    "df1=pd.pivot_table(df,index='HasCrCard',values='CustomerId',columns='Exited',margins=True,aggfunc='count')\n",
    "df1['percent']=round(df1[1]*100/df1['All'],2)\n",
    "df1"
   ]
  },
  {
   "cell_type": "code",
   "execution_count": 9,
   "metadata": {},
   "outputs": [
    {
     "data": {
      "text/html": [
       "<div>\n",
       "<style scoped>\n",
       "    .dataframe tbody tr th:only-of-type {\n",
       "        vertical-align: middle;\n",
       "    }\n",
       "\n",
       "    .dataframe tbody tr th {\n",
       "        vertical-align: top;\n",
       "    }\n",
       "\n",
       "    .dataframe thead th {\n",
       "        text-align: right;\n",
       "    }\n",
       "</style>\n",
       "<table border=\"1\" class=\"dataframe\">\n",
       "  <thead>\n",
       "    <tr style=\"text-align: right;\">\n",
       "      <th>Exited</th>\n",
       "      <th>0</th>\n",
       "      <th>1</th>\n",
       "      <th>All</th>\n",
       "      <th>percent</th>\n",
       "    </tr>\n",
       "    <tr>\n",
       "      <th>Geography</th>\n",
       "      <th></th>\n",
       "      <th></th>\n",
       "      <th></th>\n",
       "      <th></th>\n",
       "    </tr>\n",
       "  </thead>\n",
       "  <tbody>\n",
       "    <tr>\n",
       "      <th>France</th>\n",
       "      <td>4204</td>\n",
       "      <td>810</td>\n",
       "      <td>5014</td>\n",
       "      <td>16.15</td>\n",
       "    </tr>\n",
       "    <tr>\n",
       "      <th>Germany</th>\n",
       "      <td>1695</td>\n",
       "      <td>814</td>\n",
       "      <td>2509</td>\n",
       "      <td>32.44</td>\n",
       "    </tr>\n",
       "    <tr>\n",
       "      <th>Spain</th>\n",
       "      <td>2064</td>\n",
       "      <td>413</td>\n",
       "      <td>2477</td>\n",
       "      <td>16.67</td>\n",
       "    </tr>\n",
       "    <tr>\n",
       "      <th>All</th>\n",
       "      <td>7963</td>\n",
       "      <td>2037</td>\n",
       "      <td>10000</td>\n",
       "      <td>20.37</td>\n",
       "    </tr>\n",
       "  </tbody>\n",
       "</table>\n",
       "</div>"
      ],
      "text/plain": [
       "Exited        0     1    All  percent\n",
       "Geography                            \n",
       "France     4204   810   5014    16.15\n",
       "Germany    1695   814   2509    32.44\n",
       "Spain      2064   413   2477    16.67\n",
       "All        7963  2037  10000    20.37"
      ]
     },
     "execution_count": 9,
     "metadata": {},
     "output_type": "execute_result"
    }
   ],
   "source": [
    "df1=pd.pivot_table(df,index='Geography',values='CustomerId',columns='Exited',margins=True,aggfunc='count')\n",
    "df1['percent']=round(df1[1]*100/df1['All'],2)\n",
    "df1"
   ]
  },
  {
   "cell_type": "code",
   "execution_count": 10,
   "metadata": {},
   "outputs": [
    {
     "data": {
      "text/plain": [
       "<matplotlib.axes._subplots.AxesSubplot at 0x7f61dc68e588>"
      ]
     },
     "execution_count": 10,
     "metadata": {},
     "output_type": "execute_result"
    },
    {
     "data": {
      "image/png": "[encoded data removed]",
      "text/plain": [
       "<matplotlib.figure.Figure at 0x7f61a1bcfcf8>"
      ]
     },
     "metadata": {},
     "output_type": "display_data"
    }
   ],
   "source": [
    "df1=pd.pivot_table(df,index='CreditScore',values='CustomerId',columns='Exited',margins=False,aggfunc='count')\n",
    "# df1['percent']=round(df1[1]*100/df1['All'],2)\n",
    "df1.plot()"
   ]
  },
  {
   "cell_type": "code",
   "execution_count": 11,
   "metadata": {},
   "outputs": [
    {
     "data": {
      "text/plain": [
       "<matplotlib.axes._subplots.AxesSubplot at 0x7f61dc660eb8>"
      ]
     },
     "execution_count": 11,
     "metadata": {},
     "output_type": "execute_result"
    },
    {
     "data": {
      "image/png": "[encoded data removed]",
      "text/plain": [
       "<matplotlib.figure.Figure at 0x7f61dc65bf60>"
      ]
     },
     "metadata": {},
     "output_type": "display_data"
    }
   ],
   "source": [
    "df1=pd.pivot_table(df,index='Age',values='CustomerId',columns='Exited',margins=False,aggfunc='count')\n",
    "# df1['percent']=round(df1[1]*100/df1['All'],2)\n",
    "df1.plot()"
   ]
  },
  {
   "cell_type": "code",
   "execution_count": 12,
   "metadata": {},
   "outputs": [
    {
     "data": {
      "text/plain": [
       "<matplotlib.axes._subplots.AxesSubplot at 0x7f61dc5d5470>"
      ]
     },
     "execution_count": 12,
     "metadata": {},
     "output_type": "execute_result"
    },
    {
     "data": {
      "image/png": "[encoded data removed]",
      "text/plain": [
       "<matplotlib.figure.Figure at 0x7f61dc622470>"
      ]
     },
     "metadata": {},
     "output_type": "display_data"
    }
   ],
   "source": [
    "df1=pd.pivot_table(df,index='Tenure',values='CustomerId',columns='Exited',margins=False,aggfunc='count')\n",
    "# df1['percent']=round(df1[1]*100/df1['All'],2)\n",
    "df1.plot()"
   ]
  },
  {
   "cell_type": "markdown",
   "metadata": {},
   "source": [
    "### Data Preprocessing"
   ]
  },
  {
   "cell_type": "code",
   "execution_count": 194,
   "metadata": {},
   "outputs": [
    {
     "data": {
      "text/plain": [
       "CustomerId         [10000, 10000, [15634602, 15647311, 15619304, ...\n",
       "Surname            [10000, 2932, [Hargrave, Hill, Onio, Boni, Mit...\n",
       "CreditScore        [10000, 460, [-0.32622142203674587, -0.4400359...\n",
       "Geography                       [10000, 3, [France, Spain, Germany]]\n",
       "Gender                                    [10000, 2, [Female, Male]]\n",
       "Age                [10000, 70, [0.29351742289674687, 0.1981638321...\n",
       "Tenure             [10000, 11, [-1.041759679225311, -1.3875375865...\n",
       "Balance            [10000, 6382, [-1.225847671409028, 0.117350021...\n",
       "NumOfProducts                               [10000, 4, [1, 3, 2, 4]]\n",
       "HasCrCard                                         [10000, 2, [1, 0]]\n",
       "IsActiveMember                                    [10000, 2, [1, 0]]\n",
       "EstimatedSalary    [10000, 9999, [0.021886493995386145, 0.2165337...\n",
       "Exited                                            [10000, 2, [1, 0]]\n",
       "dtype: object"
      ]
     },
     "execution_count": 194,
     "metadata": {},
     "output_type": "execute_result"
    }
   ],
   "source": [
    "df.apply(lambda x:[x.count(),x.nunique(),x.unique()])"
   ]
  },
  {
   "cell_type": "code",
   "execution_count": 195,
   "metadata": {},
   "outputs": [],
   "source": [
    "## We can remove CustomerId, Surname\n",
    "## Categorical Variables : (Geography), (Gender), HasCrCard, IsActiveMember, Exited.\n",
    "## Quantitative Variables : CreditScore, Age, Tenure, Balance, NumOfProducts, EstimatedSalary\n",
    "\n",
    "## We are standardizing Quantitative Variables and One hot encoding selected Categorical Columns"
   ]
  },
  {
   "cell_type": "code",
   "execution_count": 196,
   "metadata": {},
   "outputs": [],
   "source": [
    "df_processed=pd.get_dummies(df,columns=['Geography','Gender'])\n",
    "df_processed[['CreditScore', 'Age', 'Tenure', 'Balance', 'NumOfProducts', 'EstimatedSalary']]=StandardScaler().fit_transform(df_processed[['CreditScore', 'Age', 'Tenure', 'Balance', 'NumOfProducts', 'EstimatedSalary']])\n",
    "df_processed.drop(['CustomerId','Surname'],axis=1,inplace=True)"
   ]
  },
  {
   "cell_type": "code",
   "execution_count": 197,
   "metadata": {},
   "outputs": [
    {
     "data": {
      "text/html": [
       "<div>\n",
       "<style scoped>\n",
       "    .dataframe tbody tr th:only-of-type {\n",
       "        vertical-align: middle;\n",
       "    }\n",
       "\n",
       "    .dataframe tbody tr th {\n",
       "        vertical-align: top;\n",
       "    }\n",
       "\n",
       "    .dataframe thead th {\n",
       "        text-align: right;\n",
       "    }\n",
       "</style>\n",
       "<table border=\"1\" class=\"dataframe\">\n",
       "  <thead>\n",
       "    <tr style=\"text-align: right;\">\n",
       "      <th></th>\n",
       "      <th>count</th>\n",
       "      <th>mean</th>\n",
       "      <th>std</th>\n",
       "      <th>min</th>\n",
       "      <th>25%</th>\n",
       "      <th>50%</th>\n",
       "      <th>75%</th>\n",
       "      <th>max</th>\n",
       "    </tr>\n",
       "  </thead>\n",
       "  <tbody>\n",
       "    <tr>\n",
       "      <th>CreditScore</th>\n",
       "      <td>10000.0</td>\n",
       "      <td>-0.000</td>\n",
       "      <td>1.000</td>\n",
       "      <td>-3.110</td>\n",
       "      <td>-0.688</td>\n",
       "      <td>0.015</td>\n",
       "      <td>0.698</td>\n",
       "      <td>2.064</td>\n",
       "    </tr>\n",
       "    <tr>\n",
       "      <th>Age</th>\n",
       "      <td>10000.0</td>\n",
       "      <td>-0.000</td>\n",
       "      <td>1.000</td>\n",
       "      <td>-1.995</td>\n",
       "      <td>-0.660</td>\n",
       "      <td>-0.183</td>\n",
       "      <td>0.484</td>\n",
       "      <td>5.061</td>\n",
       "    </tr>\n",
       "    <tr>\n",
       "      <th>Tenure</th>\n",
       "      <td>10000.0</td>\n",
       "      <td>-0.000</td>\n",
       "      <td>1.000</td>\n",
       "      <td>-1.733</td>\n",
       "      <td>-0.696</td>\n",
       "      <td>-0.004</td>\n",
       "      <td>0.687</td>\n",
       "      <td>1.724</td>\n",
       "    </tr>\n",
       "    <tr>\n",
       "      <th>Balance</th>\n",
       "      <td>10000.0</td>\n",
       "      <td>0.000</td>\n",
       "      <td>1.000</td>\n",
       "      <td>-1.226</td>\n",
       "      <td>-1.226</td>\n",
       "      <td>0.332</td>\n",
       "      <td>0.820</td>\n",
       "      <td>2.795</td>\n",
       "    </tr>\n",
       "    <tr>\n",
       "      <th>NumOfProducts</th>\n",
       "      <td>10000.0</td>\n",
       "      <td>-0.000</td>\n",
       "      <td>1.000</td>\n",
       "      <td>-0.912</td>\n",
       "      <td>-0.912</td>\n",
       "      <td>-0.912</td>\n",
       "      <td>0.808</td>\n",
       "      <td>4.246</td>\n",
       "    </tr>\n",
       "    <tr>\n",
       "      <th>HasCrCard</th>\n",
       "      <td>10000.0</td>\n",
       "      <td>0.706</td>\n",
       "      <td>0.456</td>\n",
       "      <td>0.000</td>\n",
       "      <td>0.000</td>\n",
       "      <td>1.000</td>\n",
       "      <td>1.000</td>\n",
       "      <td>1.000</td>\n",
       "    </tr>\n",
       "    <tr>\n",
       "      <th>IsActiveMember</th>\n",
       "      <td>10000.0</td>\n",
       "      <td>0.515</td>\n",
       "      <td>0.500</td>\n",
       "      <td>0.000</td>\n",
       "      <td>0.000</td>\n",
       "      <td>1.000</td>\n",
       "      <td>1.000</td>\n",
       "      <td>1.000</td>\n",
       "    </tr>\n",
       "    <tr>\n",
       "      <th>EstimatedSalary</th>\n",
       "      <td>10000.0</td>\n",
       "      <td>0.000</td>\n",
       "      <td>1.000</td>\n",
       "      <td>-1.740</td>\n",
       "      <td>-0.854</td>\n",
       "      <td>0.002</td>\n",
       "      <td>0.857</td>\n",
       "      <td>1.737</td>\n",
       "    </tr>\n",
       "    <tr>\n",
       "      <th>Exited</th>\n",
       "      <td>10000.0</td>\n",
       "      <td>0.204</td>\n",
       "      <td>0.403</td>\n",
       "      <td>0.000</td>\n",
       "      <td>0.000</td>\n",
       "      <td>0.000</td>\n",
       "      <td>0.000</td>\n",
       "      <td>1.000</td>\n",
       "    </tr>\n",
       "    <tr>\n",
       "      <th>Geography_France</th>\n",
       "      <td>10000.0</td>\n",
       "      <td>0.501</td>\n",
       "      <td>0.500</td>\n",
       "      <td>0.000</td>\n",
       "      <td>0.000</td>\n",
       "      <td>1.000</td>\n",
       "      <td>1.000</td>\n",
       "      <td>1.000</td>\n",
       "    </tr>\n",
       "    <tr>\n",
       "      <th>Geography_Germany</th>\n",
       "      <td>10000.0</td>\n",
       "      <td>0.251</td>\n",
       "      <td>0.434</td>\n",
       "      <td>0.000</td>\n",
       "      <td>0.000</td>\n",
       "      <td>0.000</td>\n",
       "      <td>1.000</td>\n",
       "      <td>1.000</td>\n",
       "    </tr>\n",
       "    <tr>\n",
       "      <th>Geography_Spain</th>\n",
       "      <td>10000.0</td>\n",
       "      <td>0.248</td>\n",
       "      <td>0.432</td>\n",
       "      <td>0.000</td>\n",
       "      <td>0.000</td>\n",
       "      <td>0.000</td>\n",
       "      <td>0.000</td>\n",
       "      <td>1.000</td>\n",
       "    </tr>\n",
       "    <tr>\n",
       "      <th>Gender_Female</th>\n",
       "      <td>10000.0</td>\n",
       "      <td>0.454</td>\n",
       "      <td>0.498</td>\n",
       "      <td>0.000</td>\n",
       "      <td>0.000</td>\n",
       "      <td>0.000</td>\n",
       "      <td>1.000</td>\n",
       "      <td>1.000</td>\n",
       "    </tr>\n",
       "    <tr>\n",
       "      <th>Gender_Male</th>\n",
       "      <td>10000.0</td>\n",
       "      <td>0.546</td>\n",
       "      <td>0.498</td>\n",
       "      <td>0.000</td>\n",
       "      <td>0.000</td>\n",
       "      <td>1.000</td>\n",
       "      <td>1.000</td>\n",
       "      <td>1.000</td>\n",
       "    </tr>\n",
       "  </tbody>\n",
       "</table>\n",
       "</div>"
      ],
      "text/plain": [
       "                     count   mean    std    min    25%    50%    75%    max\n",
       "CreditScore        10000.0 -0.000  1.000 -3.110 -0.688  0.015  0.698  2.064\n",
       "Age                10000.0 -0.000  1.000 -1.995 -0.660 -0.183  0.484  5.061\n",
       "Tenure             10000.0 -0.000  1.000 -1.733 -0.696 -0.004  0.687  1.724\n",
       "Balance            10000.0  0.000  1.000 -1.226 -1.226  0.332  0.820  2.795\n",
       "NumOfProducts      10000.0 -0.000  1.000 -0.912 -0.912 -0.912  0.808  4.246\n",
       "HasCrCard          10000.0  0.706  0.456  0.000  0.000  1.000  1.000  1.000\n",
       "IsActiveMember     10000.0  0.515  0.500  0.000  0.000  1.000  1.000  1.000\n",
       "EstimatedSalary    10000.0  0.000  1.000 -1.740 -0.854  0.002  0.857  1.737\n",
       "Exited             10000.0  0.204  0.403  0.000  0.000  0.000  0.000  1.000\n",
       "Geography_France   10000.0  0.501  0.500  0.000  0.000  1.000  1.000  1.000\n",
       "Geography_Germany  10000.0  0.251  0.434  0.000  0.000  0.000  1.000  1.000\n",
       "Geography_Spain    10000.0  0.248  0.432  0.000  0.000  0.000  0.000  1.000\n",
       "Gender_Female      10000.0  0.454  0.498  0.000  0.000  0.000  1.000  1.000\n",
       "Gender_Male        10000.0  0.546  0.498  0.000  0.000  1.000  1.000  1.000"
      ]
     },
     "execution_count": 197,
     "metadata": {},
     "output_type": "execute_result"
    }
   ],
   "source": [
    "df_processed.describe().transpose().apply(lambda x: np.round(x, decimals=3))"
   ]
  },
  {
   "cell_type": "code",
   "execution_count": 235,
   "metadata": {},
   "outputs": [
    {
     "data": {
      "text/html": [
       "<div>\n",
       "<style scoped>\n",
       "    .dataframe tbody tr th:only-of-type {\n",
       "        vertical-align: middle;\n",
       "    }\n",
       "\n",
       "    .dataframe tbody tr th {\n",
       "        vertical-align: top;\n",
       "    }\n",
       "\n",
       "    .dataframe thead th {\n",
       "        text-align: right;\n",
       "    }\n",
       "</style>\n",
       "<table border=\"1\" class=\"dataframe\">\n",
       "  <thead>\n",
       "    <tr style=\"text-align: right;\">\n",
       "      <th></th>\n",
       "      <th>CreditScore</th>\n",
       "      <th>Age</th>\n",
       "      <th>Tenure</th>\n",
       "      <th>Balance</th>\n",
       "      <th>NumOfProducts</th>\n",
       "      <th>HasCrCard</th>\n",
       "      <th>IsActiveMember</th>\n",
       "      <th>EstimatedSalary</th>\n",
       "      <th>Exited</th>\n",
       "      <th>Geography_France</th>\n",
       "      <th>Geography_Germany</th>\n",
       "      <th>Geography_Spain</th>\n",
       "      <th>Gender_Female</th>\n",
       "      <th>Gender_Male</th>\n",
       "    </tr>\n",
       "    <tr>\n",
       "      <th>RowNumber</th>\n",
       "      <th></th>\n",
       "      <th></th>\n",
       "      <th></th>\n",
       "      <th></th>\n",
       "      <th></th>\n",
       "      <th></th>\n",
       "      <th></th>\n",
       "      <th></th>\n",
       "      <th></th>\n",
       "      <th></th>\n",
       "      <th></th>\n",
       "      <th></th>\n",
       "      <th></th>\n",
       "      <th></th>\n",
       "    </tr>\n",
       "  </thead>\n",
       "  <tbody>\n",
       "    <tr>\n",
       "      <th>1</th>\n",
       "      <td>-0.326221</td>\n",
       "      <td>0.293517</td>\n",
       "      <td>-1.041760</td>\n",
       "      <td>-1.225848</td>\n",
       "      <td>-0.911583</td>\n",
       "      <td>1</td>\n",
       "      <td>1</td>\n",
       "      <td>0.021886</td>\n",
       "      <td>1</td>\n",
       "      <td>1</td>\n",
       "      <td>0</td>\n",
       "      <td>0</td>\n",
       "      <td>1</td>\n",
       "      <td>0</td>\n",
       "    </tr>\n",
       "    <tr>\n",
       "      <th>2</th>\n",
       "      <td>-0.440036</td>\n",
       "      <td>0.198164</td>\n",
       "      <td>-1.387538</td>\n",
       "      <td>0.117350</td>\n",
       "      <td>-0.911583</td>\n",
       "      <td>0</td>\n",
       "      <td>1</td>\n",
       "      <td>0.216534</td>\n",
       "      <td>0</td>\n",
       "      <td>0</td>\n",
       "      <td>0</td>\n",
       "      <td>1</td>\n",
       "      <td>1</td>\n",
       "      <td>0</td>\n",
       "    </tr>\n",
       "    <tr>\n",
       "      <th>3</th>\n",
       "      <td>-1.536794</td>\n",
       "      <td>0.293517</td>\n",
       "      <td>1.032908</td>\n",
       "      <td>1.333053</td>\n",
       "      <td>2.527057</td>\n",
       "      <td>1</td>\n",
       "      <td>0</td>\n",
       "      <td>0.240687</td>\n",
       "      <td>1</td>\n",
       "      <td>1</td>\n",
       "      <td>0</td>\n",
       "      <td>0</td>\n",
       "      <td>1</td>\n",
       "      <td>0</td>\n",
       "    </tr>\n",
       "    <tr>\n",
       "      <th>4</th>\n",
       "      <td>0.501521</td>\n",
       "      <td>0.007457</td>\n",
       "      <td>-1.387538</td>\n",
       "      <td>-1.225848</td>\n",
       "      <td>0.807737</td>\n",
       "      <td>0</td>\n",
       "      <td>0</td>\n",
       "      <td>-0.108918</td>\n",
       "      <td>0</td>\n",
       "      <td>1</td>\n",
       "      <td>0</td>\n",
       "      <td>0</td>\n",
       "      <td>1</td>\n",
       "      <td>0</td>\n",
       "    </tr>\n",
       "    <tr>\n",
       "      <th>5</th>\n",
       "      <td>2.063884</td>\n",
       "      <td>0.388871</td>\n",
       "      <td>-1.041760</td>\n",
       "      <td>0.785728</td>\n",
       "      <td>-0.911583</td>\n",
       "      <td>1</td>\n",
       "      <td>1</td>\n",
       "      <td>-0.365276</td>\n",
       "      <td>0</td>\n",
       "      <td>0</td>\n",
       "      <td>0</td>\n",
       "      <td>1</td>\n",
       "      <td>1</td>\n",
       "      <td>0</td>\n",
       "    </tr>\n",
       "  </tbody>\n",
       "</table>\n",
       "</div>"
      ],
      "text/plain": [
       "           CreditScore       Age    Tenure   Balance  NumOfProducts  \\\n",
       "RowNumber                                                             \n",
       "1            -0.326221  0.293517 -1.041760 -1.225848      -0.911583   \n",
       "2            -0.440036  0.198164 -1.387538  0.117350      -0.911583   \n",
       "3            -1.536794  0.293517  1.032908  1.333053       2.527057   \n",
       "4             0.501521  0.007457 -1.387538 -1.225848       0.807737   \n",
       "5             2.063884  0.388871 -1.041760  0.785728      -0.911583   \n",
       "\n",
       "           HasCrCard  IsActiveMember  EstimatedSalary  Exited  \\\n",
       "RowNumber                                                       \n",
       "1                  1               1         0.021886       1   \n",
       "2                  0               1         0.216534       0   \n",
       "3                  1               0         0.240687       1   \n",
       "4                  0               0        -0.108918       0   \n",
       "5                  1               1        -0.365276       0   \n",
       "\n",
       "           Geography_France  Geography_Germany  Geography_Spain  \\\n",
       "RowNumber                                                         \n",
       "1                         1                  0                0   \n",
       "2                         0                  0                1   \n",
       "3                         1                  0                0   \n",
       "4                         1                  0                0   \n",
       "5                         0                  0                1   \n",
       "\n",
       "           Gender_Female  Gender_Male  \n",
       "RowNumber                              \n",
       "1                      1            0  \n",
       "2                      1            0  \n",
       "3                      1            0  \n",
       "4                      1            0  \n",
       "5                      1            0  "
      ]
     },
     "execution_count": 235,
     "metadata": {},
     "output_type": "execute_result"
    }
   ],
   "source": [
    "df_processed.head()"
   ]
  },
  {
   "cell_type": "code",
   "execution_count": 198,
   "metadata": {},
   "outputs": [
    {
     "data": {
      "text/plain": [
       "(10000, 14)"
      ]
     },
     "execution_count": 198,
     "metadata": {},
     "output_type": "execute_result"
    }
   ],
   "source": [
    "df_processed.shape"
   ]
  },
  {
   "cell_type": "markdown",
   "metadata": {},
   "source": [
    "### Model Preparation"
   ]
  },
  {
   "cell_type": "code",
   "execution_count": 199,
   "metadata": {},
   "outputs": [],
   "source": [
    "df_new1=df_processed[df['Exited']==1]\n",
    "df_new2=df_processed[df['Exited']==0].sample(len(df_new1))\n",
    "df_new=pd.concat([df_new1,df_new2])"
   ]
  },
  {
   "cell_type": "code",
   "execution_count": 225,
   "metadata": {},
   "outputs": [],
   "source": [
    "X=df_processed.drop('Exited',axis=1)\n",
    "Y=df_processed['Exited']\n",
    "\n",
    "x_train,x_test,y_train,y_test=train_test_split(X,Y,test_size=.20,random_state=50)"
   ]
  },
  {
   "cell_type": "code",
   "execution_count": 233,
   "metadata": {},
   "outputs": [
    {
     "name": "stdout",
     "output_type": "stream",
     "text": [
      "Epoch 1/50\n",
      "8000/8000 [==============================] - 1s 180us/step - loss: 0.5714 - acc: 0.6989\n",
      "Epoch 2/50\n",
      "8000/8000 [==============================] - 1s 77us/step - loss: 0.4359 - acc: 0.8041\n",
      "Epoch 3/50\n",
      "8000/8000 [==============================] - 1s 75us/step - loss: 0.4031 - acc: 0.8186\n",
      "Epoch 4/50\n",
      "8000/8000 [==============================] - 1s 72us/step - loss: 0.3798 - acc: 0.8346\n",
      "Epoch 5/50\n",
      "8000/8000 [==============================] - 1s 73us/step - loss: 0.3637 - acc: 0.8436\n",
      "Epoch 6/50\n",
      "8000/8000 [==============================] - 1s 71us/step - loss: 0.3558 - acc: 0.8497\n",
      "Epoch 7/50\n",
      "8000/8000 [==============================] - 1s 80us/step - loss: 0.3507 - acc: 0.8529\n",
      "Epoch 8/50\n",
      "8000/8000 [==============================] - 1s 78us/step - loss: 0.3477 - acc: 0.8532\n",
      "Epoch 9/50\n",
      "8000/8000 [==============================] - 1s 79us/step - loss: 0.3454 - acc: 0.8557\n",
      "Epoch 10/50\n",
      "8000/8000 [==============================] - 1s 76us/step - loss: 0.3434 - acc: 0.8556\n",
      "Epoch 11/50\n",
      "8000/8000 [==============================] - 1s 73us/step - loss: 0.3406 - acc: 0.8567\n",
      "Epoch 12/50\n",
      "8000/8000 [==============================] - 1s 75us/step - loss: 0.3402 - acc: 0.8595\n",
      "Epoch 13/50\n",
      "8000/8000 [==============================] - 1s 79us/step - loss: 0.3390 - acc: 0.8600\n",
      "Epoch 14/50\n",
      "8000/8000 [==============================] - 1s 74us/step - loss: 0.3380 - acc: 0.8595\n",
      "Epoch 15/50\n",
      "8000/8000 [==============================] - 1s 78us/step - loss: 0.3376 - acc: 0.8599\n",
      "Epoch 16/50\n",
      "8000/8000 [==============================] - 1s 75us/step - loss: 0.3366 - acc: 0.8600\n",
      "Epoch 17/50\n",
      "8000/8000 [==============================] - 1s 77us/step - loss: 0.3360 - acc: 0.8596\n",
      "Epoch 18/50\n",
      "8000/8000 [==============================] - 1s 74us/step - loss: 0.3352 - acc: 0.8600\n",
      "Epoch 19/50\n",
      "8000/8000 [==============================] - 1s 75us/step - loss: 0.3349 - acc: 0.8605\n",
      "Epoch 20/50\n",
      "8000/8000 [==============================] - 1s 76us/step - loss: 0.3346 - acc: 0.8616\n",
      "Epoch 21/50\n",
      "8000/8000 [==============================] - 1s 75us/step - loss: 0.3338 - acc: 0.8619\n",
      "Epoch 22/50\n",
      "8000/8000 [==============================] - 1s 79us/step - loss: 0.3334 - acc: 0.8615\n",
      "Epoch 23/50\n",
      "8000/8000 [==============================] - 1s 75us/step - loss: 0.3327 - acc: 0.8624\n",
      "Epoch 24/50\n",
      "8000/8000 [==============================] - 1s 78us/step - loss: 0.3319 - acc: 0.8632\n",
      "Epoch 25/50\n",
      "8000/8000 [==============================] - 1s 74us/step - loss: 0.3316 - acc: 0.8634\n",
      "Epoch 26/50\n",
      "8000/8000 [==============================] - 1s 75us/step - loss: 0.3318 - acc: 0.8642\n",
      "Epoch 27/50\n",
      "8000/8000 [==============================] - 1s 72us/step - loss: 0.3314 - acc: 0.8641\n",
      "Epoch 28/50\n",
      "8000/8000 [==============================] - 1s 74us/step - loss: 0.3307 - acc: 0.8654\n",
      "Epoch 29/50\n",
      "8000/8000 [==============================] - 1s 75us/step - loss: 0.3305 - acc: 0.8641\n",
      "Epoch 30/50\n",
      "8000/8000 [==============================] - 1s 76us/step - loss: 0.3300 - acc: 0.8641\n",
      "Epoch 31/50\n",
      "8000/8000 [==============================] - 1s 74us/step - loss: 0.3299 - acc: 0.8627\n",
      "Epoch 32/50\n",
      "8000/8000 [==============================] - 1s 73us/step - loss: 0.3293 - acc: 0.8651\n",
      "Epoch 33/50\n",
      "8000/8000 [==============================] - 1s 75us/step - loss: 0.3293 - acc: 0.8639\n",
      "Epoch 34/50\n",
      "8000/8000 [==============================] - 1s 74us/step - loss: 0.3291 - acc: 0.8635\n",
      "Epoch 35/50\n",
      "8000/8000 [==============================] - 1s 75us/step - loss: 0.3289 - acc: 0.8650\n",
      "Epoch 36/50\n",
      "8000/8000 [==============================] - 1s 74us/step - loss: 0.3287 - acc: 0.8646\n",
      "Epoch 37/50\n",
      "8000/8000 [==============================] - 1s 74us/step - loss: 0.3283 - acc: 0.8630\n",
      "Epoch 38/50\n",
      "8000/8000 [==============================] - 1s 77us/step - loss: 0.3278 - acc: 0.8649\n",
      "Epoch 39/50\n",
      "8000/8000 [==============================] - 1s 71us/step - loss: 0.3275 - acc: 0.8641\n",
      "Epoch 40/50\n",
      "8000/8000 [==============================] - 1s 74us/step - loss: 0.3283 - acc: 0.8647\n",
      "Epoch 41/50\n",
      "8000/8000 [==============================] - 1s 75us/step - loss: 0.3275 - acc: 0.8639\n",
      "Epoch 42/50\n",
      "8000/8000 [==============================] - 1s 88us/step - loss: 0.3278 - acc: 0.8642\n",
      "Epoch 43/50\n",
      "8000/8000 [==============================] - 1s 77us/step - loss: 0.3276 - acc: 0.8641\n",
      "Epoch 44/50\n",
      "8000/8000 [==============================] - 1s 76us/step - loss: 0.3271 - acc: 0.8652\n",
      "Epoch 45/50\n",
      "8000/8000 [==============================] - 1s 79us/step - loss: 0.3269 - acc: 0.8654\n",
      "Epoch 46/50\n",
      "8000/8000 [==============================] - 1s 92us/step - loss: 0.3271 - acc: 0.8639\n",
      "Epoch 47/50\n",
      "8000/8000 [==============================] - 1s 97us/step - loss: 0.3267 - acc: 0.8655\n",
      "Epoch 48/50\n",
      "8000/8000 [==============================] - 1s 116us/step - loss: 0.3269 - acc: 0.8651\n",
      "Epoch 49/50\n",
      "8000/8000 [==============================] - 1s 102us/step - loss: 0.3260 - acc: 0.8660\n",
      "Epoch 50/50\n",
      "8000/8000 [==============================] - 1s 102us/step - loss: 0.3260 - acc: 0.8655\n"
     ]
    },
    {
     "data": {
      "text/plain": [
       "<keras.callbacks.History at 0x7f615409ea20>"
      ]
     },
     "execution_count": 233,
     "metadata": {},
     "output_type": "execute_result"
    }
   ],
   "source": [
    "# create model\n",
    "model = Sequential()\n",
    "model.add(Dense(12, input_dim=len(X.columns), activation='relu'))\n",
    "model.add(Dense(8, activation='relu'))\n",
    "model.add(Dense(1, activation='sigmoid'))\n",
    "model.compile(loss='binary_crossentropy', optimizer='adam', metrics=['accuracy'])\n",
    "model.fit(x_train,y_train,epochs=50,batch_size=30,class_weight='balanced',verbose=1)"
   ]
  },
  {
   "cell_type": "code",
   "execution_count": 234,
   "metadata": {},
   "outputs": [
    {
     "name": "stdout",
     "output_type": "stream",
     "text": [
      "2000/2000 [==============================] - 0s 213us/step\n",
      "             precision    recall  f1-score   support\n",
      "\n",
      "        0.0       0.96      0.88      0.92      1751\n",
      "        1.0       0.46      0.74      0.57       249\n",
      "\n",
      "avg / total       0.90      0.86      0.87      2000\n",
      "\n",
      "[[1534  217]\n",
      " [  64  185]]\n"
     ]
    }
   ],
   "source": [
    "scores = model.evaluate(x_test, y_test)\n",
    "predictions = model.predict(x_test)\n",
    "y_pred = [round(x[0]) for x in predictions]\n",
    "print(classification_report(y_pred,y_test))\n",
    "print(confusion_matrix(y_pred,y_test))"
   ]
  },
  {
   "cell_type": "code",
   "execution_count": 228,
   "metadata": {},
   "outputs": [
    {
     "name": "stdout",
     "output_type": "stream",
     "text": [
      "             precision    recall  f1-score   support\n",
      "\n",
      "          0       0.96      0.86      0.91      1777\n",
      "          1       0.40      0.72      0.52       223\n",
      "\n",
      "avg / total       0.90      0.85      0.87      2000\n",
      "\n",
      "[[1536  241]\n",
      " [  62  161]]\n"
     ]
    }
   ],
   "source": [
    "## Random Forest Model\n",
    "\n",
    "classifier=RandomForestClassifier(class_weight='balanced')\n",
    "classifier.fit(x_train,y_train)\n",
    "y_pred=classifier.predict(x_test)\n",
    "print(classification_report(y_pred,y_test))\n",
    "print(confusion_matrix(y_pred,y_test))"
   ]
  },
  {
   "cell_type": "code",
   "execution_count": null,
   "metadata": {},
   "outputs": [],
   "source": []
  },
  {
   "cell_type": "code",
   "execution_count": null,
   "metadata": {},
   "outputs": [],
   "source": []
  },
  {
   "cell_type": "code",
   "execution_count": null,
   "metadata": {},
   "outputs": [],
   "source": []
  },
  {
   "cell_type": "code",
   "execution_count": 231,
   "metadata": {},
   "outputs": [
    {
     "ename": "ValueError",
     "evalue": "shapes (10000,10000) and (1,3) not aligned: 10000 (dim 1) != 1 (dim 0)",
     "output_type": "error",
     "traceback": [
      "\u001b[0;31m---------------------------------------------------------------------------\u001b[0m",
      "\u001b[0;31mValueError\u001b[0m                                Traceback (most recent call last)",
      "\u001b[0;32m<ipython-input-231-9e3ecda18e2d>\u001b[0m in \u001b[0;36m<module>\u001b[0;34m()\u001b[0m\n\u001b[1;32m     40\u001b[0m     \u001b[0mslope_hidden_layer\u001b[0m \u001b[0;34m=\u001b[0m \u001b[0mderivatives_sigmoid\u001b[0m\u001b[0;34m(\u001b[0m\u001b[0mhiddenlayer_activations\u001b[0m\u001b[0;34m)\u001b[0m\u001b[0;34m\u001b[0m\u001b[0m\n\u001b[1;32m     41\u001b[0m     \u001b[0md_output\u001b[0m \u001b[0;34m=\u001b[0m \u001b[0mE\u001b[0m \u001b[0;34m*\u001b[0m \u001b[0mslope_output_layer\u001b[0m\u001b[0;34m\u001b[0m\u001b[0m\n\u001b[0;32m---> 42\u001b[0;31m     \u001b[0mError_at_hidden_layer\u001b[0m \u001b[0;34m=\u001b[0m \u001b[0md_output\u001b[0m\u001b[0;34m.\u001b[0m\u001b[0mdot\u001b[0m\u001b[0;34m(\u001b[0m\u001b[0mwout\u001b[0m\u001b[0;34m.\u001b[0m\u001b[0mT\u001b[0m\u001b[0;34m)\u001b[0m\u001b[0;34m\u001b[0m\u001b[0m\n\u001b[0m\u001b[1;32m     43\u001b[0m     \u001b[0md_hiddenlayer\u001b[0m \u001b[0;34m=\u001b[0m \u001b[0mError_at_hidden_layer\u001b[0m \u001b[0;34m*\u001b[0m \u001b[0mslope_hidden_layer\u001b[0m\u001b[0;34m\u001b[0m\u001b[0m\n\u001b[1;32m     44\u001b[0m     \u001b[0mwout\u001b[0m \u001b[0;34m+=\u001b[0m \u001b[0mhiddenlayer_activations\u001b[0m\u001b[0;34m.\u001b[0m\u001b[0mT\u001b[0m\u001b[0;34m.\u001b[0m\u001b[0mdot\u001b[0m\u001b[0;34m(\u001b[0m\u001b[0md_output\u001b[0m\u001b[0;34m)\u001b[0m \u001b[0;34m*\u001b[0m\u001b[0mlr\u001b[0m\u001b[0;34m\u001b[0m\u001b[0m\n",
      "\u001b[0;31mValueError\u001b[0m: shapes (10000,10000) and (1,3) not aligned: 10000 (dim 1) != 1 (dim 0)"
     ]
    }
   ],
   "source": [
    "#Input array\n",
    "x=np.array(X)\n",
    "\n",
    "#Output\n",
    "y=np.array(Y)\n",
    "\n",
    "#Sigmoid Function\n",
    "def sigmoid (x):\n",
    "    return 1/(1 + np.exp(-x))\n",
    "\n",
    "#Derivative of Sigmoid Function\n",
    "def derivatives_sigmoid(x):\n",
    "    return x * (1 - x)\n",
    "\n",
    "#Variable initialization\n",
    "epoch=5000 #Setting training iterations\n",
    "lr=0.1 #Setting learning rate\n",
    "inputlayer_neurons = x.shape[1] #number of features in data set\n",
    "hiddenlayer_neurons = 3 #number of hidden layers neurons\n",
    "output_neurons = 1 #number of neurons at output layer\n",
    "\n",
    "#weight and bias initialization\n",
    "wh=np.random.uniform(size=(inputlayer_neurons,hiddenlayer_neurons))\n",
    "bh=np.random.uniform(size=(1,hiddenlayer_neurons))\n",
    "wout=np.random.uniform(size=(hiddenlayer_neurons,output_neurons))\n",
    "bout=np.random.uniform(size=(1,output_neurons))\n",
    "\n",
    "for i in range(epoch):\n",
    "    #Forward Propogation\n",
    "    hidden_layer_input1=np.dot(x,wh)\n",
    "    hidden_layer_input=hidden_layer_input1 + bh\n",
    "    hiddenlayer_activations = sigmoid(hidden_layer_input)\n",
    "    output_layer_input1=np.dot(hiddenlayer_activations,wout)\n",
    "    output_layer_input= output_layer_input1+ bout\n",
    "    output = sigmoid(output_layer_input)\n",
    "\n",
    "    #Backpropagation\n",
    "    E = y-output\n",
    "    slope_output_layer = derivatives_sigmoid(output)\n",
    "    slope_hidden_layer = derivatives_sigmoid(hiddenlayer_activations)\n",
    "    d_output = E * slope_output_layer\n",
    "    Error_at_hidden_layer = d_output.dot(wout.T)\n",
    "    d_hiddenlayer = Error_at_hidden_layer * slope_hidden_layer\n",
    "    wout += hiddenlayer_activations.T.dot(d_output) *lr\n",
    "    bout += np.sum(d_output, axis=0,keepdims=True) *lr\n",
    "    wh += x.T.dot(d_hiddenlayer) *lr\n",
    "    bh += np.sum(d_hiddenlayer, axis=0,keepdims=True) *lr\n",
    "\n",
    "print(output)"
   ]
  },
  {
   "cell_type": "code",
   "execution_count": null,
   "metadata": {},
   "outputs": [],
   "source": [
    "def Perceptron():\n",
    "    "
   ]
  },
  {
   "cell_type": "code",
   "execution_count": null,
   "metadata": {},
   "outputs": [],
   "source": []
  }
 ],
 "metadata": {
  "kernelspec": {
   "display_name": "Python 3",
   "language": "python",
   "name": "python3"
  },
  "language_info": {
   "codemirror_mode": {
    "name": "ipython",
    "version": 3
   },
   "file_extension": ".py",
   "mimetype": "text/x-python",
   "name": "python",
   "nbconvert_exporter": "python",
   "pygments_lexer": "ipython3",
   "version": "3.7.2"
  }
 },
 "nbformat": 4,
 "nbformat_minor": 2
}
