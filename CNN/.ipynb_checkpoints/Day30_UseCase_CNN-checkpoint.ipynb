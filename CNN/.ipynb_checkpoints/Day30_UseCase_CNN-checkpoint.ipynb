{
 "cells": [
  {
   "cell_type": "code",
   "execution_count": 1,
   "metadata": {},
   "outputs": [],
   "source": [
    "import os,shutil"
   ]
  },
  {
   "cell_type": "code",
   "execution_count": 2,
   "metadata": {},
   "outputs": [],
   "source": [
    "dataset_dir='/home/dataset/training_set'\n",
    "user_dir='/home/jk12904613/catsanddogs'"
   ]
  },
  {
   "cell_type": "code",
   "execution_count": 15,
   "metadata": {},
   "outputs": [],
   "source": [
    "train_dir=os.path.join(user_dir,'train')\n",
    "# os.mkdir(train_dir)\n",
    "\n",
    "validation_dir=os.path.join(user_dir,'validation')\n",
    "# os.mkdir(validation_dir)\n",
    "\n",
    "test_dir=os.path.join(user_dir,'test')\n",
    "# os.mkdir(test_dir)\n"
   ]
  },
  {
   "cell_type": "code",
   "execution_count": 16,
   "metadata": {},
   "outputs": [],
   "source": [
    "train_cats_dir=os.path.join(train_dir,'cats')\n",
    "# os.mkdir(train_cats_dir)\n",
    "\n",
    "train_dogs_dir=os.path.join(train_dir,'dogs')\n",
    "# os.mkdir(train_dogs_dir)\n",
    "\n",
    "validation_cats_dir=os.path.join(validation_dir,'cats')\n",
    "# os.mkdir(validation_cats_dir)\n",
    "\n",
    "validation_dogs_dir=os.path.join(validation_dir,'dogs')\n",
    "# os.mkdir(validation_dogs_dir)\n",
    "\n",
    "test_cats_dir=os.path.join(test_dir,'cats')\n",
    "# os.mkdir(test_cats_dir)\n",
    "\n",
    "test_dogs_dir=os.path.join(test_dir,'dogs')\n",
    "# os.mkdir(test_dogs_dir)"
   ]
  },
  {
   "cell_type": "code",
   "execution_count": 6,
   "metadata": {},
   "outputs": [],
   "source": [
    "# fnames=['cat.{}.jpg'.format(i) for i in range(1,1001)]\n",
    "# for fname in fnames:\n",
    "#     src=os.path.join(dataset_dir,'cats',fname)\n",
    "#     dst=os.path.join(train_cats_dir,fname)\n",
    "#     shutil.copyfile(src,dst)\n",
    "# fnames=['cat.{}.jpg'.format(i) for i in range(1001,1301)]\n",
    "# for fname in fnames:\n",
    "#     src=os.path.join(dataset_dir,'cats',fname)\n",
    "#     dst=os.path.join(validation_cats_dir,fname)\n",
    "#     shutil.copyfile(src,dst)\n",
    "# fnames=['cat.{}.jpg'.format(i) for i in range(1500,1800)]\n",
    "# for fname in fnames:\n",
    "#     src=os.path.join(dataset_dir,'cats',fname)\n",
    "#     dst=os.path.join(test_cats_dir,fname)\n",
    "#     shutil.copyfile(src,dst)"
   ]
  },
  {
   "cell_type": "code",
   "execution_count": 7,
   "metadata": {},
   "outputs": [],
   "source": [
    "# fnames=['dog.{}.jpg'.format(i) for i in range(1,1001)]\n",
    "# for fname in fnames:\n",
    "#     src=os.path.join(dataset_dir,'dogs',fname)\n",
    "#     dst=os.path.join(train_dogs_dir,fname)\n",
    "#     shutil.copyfile(src,dst)\n",
    "# fnames=['dog.{}.jpg'.format(i) for i in range(1001,1301)]\n",
    "# for fname in fnames:\n",
    "#     src=os.path.join(dataset_dir,'dogs',fname)\n",
    "#     dst=os.path.join(validation_dogs_dir,fname)\n",
    "#     shutil.copyfile(src,dst)\n",
    "# fnames=['dog.{}.jpg'.format(i) for i in range(1500,1800)]\n",
    "# for fname in fnames:\n",
    "#     src=os.path.join(dataset_dir,'dogs',fname)\n",
    "#     dst=os.path.join(test_dogs_dir,fname)\n",
    "#     shutil.copyfile(src,dst)"
   ]
  },
  {
   "cell_type": "code",
   "execution_count": 17,
   "metadata": {},
   "outputs": [
    {
     "name": "stdout",
     "output_type": "stream",
     "text": [
      "total training cat images 1000\n",
      "total training dog images 1000\n",
      "total validation cat images 300\n",
      "total validation dog images 300\n",
      "total test dog images 300\n",
      "total test cat images 300\n"
     ]
    }
   ],
   "source": [
    "print('total training cat images',len(os.listdir(train_cats_dir)))\n",
    "print('total training dog images',len(os.listdir(train_dogs_dir)))\n",
    "print('total validation cat images',len(os.listdir(validation_cats_dir)))\n",
    "print('total validation dog images',len(os.listdir(validation_dogs_dir)))\n",
    "print('total test dog images',len(os.listdir(test_cats_dir)))\n",
    "print('total test cat images',len(os.listdir(test_dogs_dir)))"
   ]
  },
  {
   "cell_type": "markdown",
   "metadata": {},
   "source": [
    "## Model Building"
   ]
  },
  {
   "cell_type": "code",
   "execution_count": 25,
   "metadata": {},
   "outputs": [],
   "source": [
    "from keras import layers\n",
    "from keras import models\n",
    "from keras import optimizers\n",
    "\n",
    "from keras.preprocessing.image import ImageDataGenerator"
   ]
  },
  {
   "cell_type": "code",
   "execution_count": 26,
   "metadata": {},
   "outputs": [
    {
     "name": "stdout",
     "output_type": "stream",
     "text": [
      "_________________________________________________________________\n",
      "Layer (type)                 Output Shape              Param #   \n",
      "=================================================================\n",
      "conv2d_4 (Conv2D)            (None, 62, 62, 32)        896       \n",
      "_________________________________________________________________\n",
      "max_pooling2d_4 (MaxPooling2 (None, 31, 31, 32)        0         \n",
      "_________________________________________________________________\n",
      "conv2d_5 (Conv2D)            (None, 29, 29, 64)        18496     \n",
      "_________________________________________________________________\n",
      "max_pooling2d_5 (MaxPooling2 (None, 14, 14, 64)        0         \n",
      "_________________________________________________________________\n",
      "conv2d_6 (Conv2D)            (None, 12, 12, 128)       73856     \n",
      "_________________________________________________________________\n",
      "max_pooling2d_6 (MaxPooling2 (None, 6, 6, 128)         0         \n",
      "_________________________________________________________________\n",
      "flatten_2 (Flatten)          (None, 4608)              0         \n",
      "_________________________________________________________________\n",
      "dense_3 (Dense)              (None, 512)               2359808   \n",
      "_________________________________________________________________\n",
      "dense_4 (Dense)              (None, 1)                 513       \n",
      "=================================================================\n",
      "Total params: 2,453,569\n",
      "Trainable params: 2,453,569\n",
      "Non-trainable params: 0\n",
      "_________________________________________________________________\n"
     ]
    }
   ],
   "source": [
    "model=models.Sequential()\n",
    "model.add(layers.Conv2D(32,(3,3),activation='relu',input_shape=(64,64,3)))\n",
    "model.add(layers.MaxPooling2D((2,2)))\n",
    "model.add(layers.Conv2D(64,(3,3),activation='relu'))\n",
    "model.add(layers.MaxPooling2D((2,2)))\n",
    "model.add(layers.Conv2D(128,(3,3),activation='relu'))\n",
    "model.add(layers.MaxPooling2D((2,2)))\n",
    "# model.add(layers.Conv2D(128,(3,3),activation='relu'))\n",
    "# model.add(layers.MaxPooling2D((2,2)))\n",
    "model.add(layers.Flatten())\n",
    "model.add(layers.Dense(512,activation='relu'))\n",
    "model.add(layers.Dense(1,activation='sigmoid'))\n",
    "model.summary()\n"
   ]
  },
  {
   "cell_type": "code",
   "execution_count": 27,
   "metadata": {},
   "outputs": [],
   "source": [
    "model.compile(loss='binary_crossentropy',optimizer='adam',metrics=['acc'])"
   ]
  },
  {
   "cell_type": "code",
   "execution_count": 28,
   "metadata": {},
   "outputs": [
    {
     "name": "stdout",
     "output_type": "stream",
     "text": [
      "Found 2000 images belonging to 2 classes.\n",
      "Found 600 images belonging to 2 classes.\n"
     ]
    }
   ],
   "source": [
    "train_datagen=ImageDataGenerator(rescale=1./255)\n",
    "validation_datagen=ImageDataGenerator(rescale=1./255)\n",
    "\n",
    "train_generator=train_datagen.flow_from_directory(train_dir,target_size=(64,64),batch_size=20,class_mode='binary')\n",
    "validation_generator=validation_datagen.flow_from_directory(validation_dir,target_size=(64,64),batch_size=20,class_mode='binary')"
   ]
  },
  {
   "cell_type": "code",
   "execution_count": 29,
   "metadata": {},
   "outputs": [
    {
     "name": "stdout",
     "output_type": "stream",
     "text": [
      "data batch shape:  (20, 64, 64, 3)\n",
      "labels batch shape:  (20,)\n"
     ]
    }
   ],
   "source": [
    "for data_batch,labels_batch in train_generator:\n",
    "    print('data batch shape: ',data_batch.shape)\n",
    "    print('labels batch shape: ',labels_batch.shape)\n",
    "    break"
   ]
  },
  {
   "cell_type": "code",
   "execution_count": 30,
   "metadata": {},
   "outputs": [
    {
     "name": "stdout",
     "output_type": "stream",
     "text": [
      "data batch :  [[[[0.56078434 0.59607846 0.58431375]\n",
      "   [0.5882353  0.62352943 0.6117647 ]\n",
      "   [0.5254902  0.56078434 0.54901963]\n",
      "   ...\n",
      "   [0.21176472 0.37647063 0.43921572]\n",
      "   [0.30588236 0.5058824  0.6117647 ]\n",
      "   [0.34901962 0.52156866 0.6745098 ]]\n",
      "\n",
      "  [[0.01568628 0.00784314 0.01176471]\n",
      "   [0.02352941 0.01568628 0.01960784]\n",
      "   [0.07843138 0.07058824 0.07450981]\n",
      "   ...\n",
      "   [0.19607845 0.36078432 0.42352945]\n",
      "   [0.29411766 0.49411768 0.6       ]\n",
      "   [0.35686275 0.5137255  0.654902  ]]\n",
      "\n",
      "  [[0.01568628 0.02352941 0.01960784]\n",
      "   [0.02352941 0.03137255 0.02745098]\n",
      "   [0.02745098 0.03529412 0.03137255]\n",
      "   ...\n",
      "   [0.2392157  0.4039216  0.4666667 ]\n",
      "   [0.30980393 0.50980395 0.6156863 ]\n",
      "   [0.3647059  0.5176471  0.64705884]]\n",
      "\n",
      "  ...\n",
      "\n",
      "  [[0.4901961  0.45098042 0.3137255 ]\n",
      "   [0.45882356 0.41176474 0.31764707]\n",
      "   [0.43137258 0.3803922  0.31764707]\n",
      "   ...\n",
      "   [0.3647059  0.31764707 0.25490198]\n",
      "   [0.4156863  0.37254903 0.28627452]\n",
      "   [0.48235297 0.43529415 0.34901962]]\n",
      "\n",
      "  [[0.47450984 0.42352945 0.34901962]\n",
      "   [0.43137258 0.3803922  0.31764707]\n",
      "   [0.3803922  0.3254902  0.28235295]\n",
      "   ...\n",
      "   [0.41960788 0.38823533 0.34509805]\n",
      "   [0.36862746 0.34117648 0.2784314 ]\n",
      "   [0.40000004 0.36862746 0.29411766]]\n",
      "\n",
      "  [[0.47058827 0.41960788 0.34509805]\n",
      "   [0.4156863  0.36862746 0.28235295]\n",
      "   [0.4156863  0.36862746 0.28235295]\n",
      "   ...\n",
      "   [0.32156864 0.29411766 0.27058825]\n",
      "   [0.34509805 0.31764707 0.29411766]\n",
      "   [0.38431376 0.35686275 0.28627452]]]\n",
      "\n",
      "\n",
      " [[[0.31764707 0.20784315 0.16078432]\n",
      "   [0.30980393 0.20000002 0.15294118]\n",
      "   [0.3137255  0.20392159 0.15686275]\n",
      "   ...\n",
      "   [0.21960786 0.16078432 0.13333334]\n",
      "   [0.21568629 0.15686275 0.12941177]\n",
      "   [0.21568629 0.15686275 0.12941177]]\n",
      "\n",
      "  [[0.32156864 0.21176472 0.16470589]\n",
      "   [0.31764707 0.20784315 0.16078432]\n",
      "   [0.31764707 0.20784315 0.16078432]\n",
      "   ...\n",
      "   [0.21960786 0.16078432 0.13333334]\n",
      "   [0.23529413 0.1764706  0.14901961]\n",
      "   [0.20784315 0.14901961 0.12156864]]\n",
      "\n",
      "  [[0.31764707 0.20784315 0.15294118]\n",
      "   [0.3137255  0.20392159 0.14901961]\n",
      "   [0.31764707 0.20784315 0.15294118]\n",
      "   ...\n",
      "   [0.227451   0.16078432 0.13333334]\n",
      "   [0.20784315 0.15686275 0.13333334]\n",
      "   [0.20000002 0.15686275 0.14901961]]\n",
      "\n",
      "  ...\n",
      "\n",
      "  [[0.3019608  0.1137255  0.06666667]\n",
      "   [0.2901961  0.10980393 0.05882353]\n",
      "   [0.27058825 0.09803922 0.04705883]\n",
      "   ...\n",
      "   [0.59607846 0.32941177 0.15294118]\n",
      "   [0.5803922  0.3137255  0.13725491]\n",
      "   [0.5686275  0.3019608  0.1254902 ]]\n",
      "\n",
      "  [[0.31764707 0.11764707 0.0509804 ]\n",
      "   [0.33333334 0.13333334 0.06666667]\n",
      "   [0.31764707 0.11764707 0.0509804 ]\n",
      "   ...\n",
      "   [0.5058824  0.227451   0.00784314]\n",
      "   [0.56078434 0.28235295 0.0627451 ]\n",
      "   [0.5803922  0.3019608  0.08235294]]\n",
      "\n",
      "  [[0.33333334 0.11764707 0.03921569]\n",
      "   [0.34117648 0.1254902  0.04705883]\n",
      "   [0.34901962 0.13333334 0.05490196]\n",
      "   ...\n",
      "   [0.67058825 0.37647063 0.14901961]\n",
      "   [0.6509804  0.35686275 0.12941177]\n",
      "   [0.65882355 0.3647059  0.13725491]]]\n",
      "\n",
      "\n",
      " [[[0.9176471  0.10980393 0.05490196]\n",
      "   [0.8862746  0.10196079 0.03921569]\n",
      "   [0.882353   0.1137255  0.05882353]\n",
      "   ...\n",
      "   [0.34901962 0.14509805 0.0627451 ]\n",
      "   [0.38431376 0.18431373 0.        ]\n",
      "   [0.33333334 0.13333334 0.01960784]]\n",
      "\n",
      "  [[0.9568628  0.11764707 0.07450981]\n",
      "   [0.9176471  0.09411766 0.04313726]\n",
      "   [0.9176471  0.10196079 0.0509804 ]\n",
      "   ...\n",
      "   [0.3372549  0.03529412 0.        ]\n",
      "   [0.2392157  0.12941177 0.04705883]\n",
      "   [0.28235295 0.14901961 0.04313726]]\n",
      "\n",
      "  [[0.9803922  0.13333334 0.07450981]\n",
      "   [0.96470594 0.11764707 0.05882353]\n",
      "   [0.9176471  0.1254902  0.04705883]\n",
      "   ...\n",
      "   [0.73333335 0.1137255  0.01568628]\n",
      "   [0.52156866 0.12156864 0.03137255]\n",
      "   [0.30588236 0.16862746 0.0509804 ]]\n",
      "\n",
      "  ...\n",
      "\n",
      "  [[0.2901961  0.10196079 0.09411766]\n",
      "   [0.64705884 0.09803922 0.04705883]\n",
      "   [0.72156864 0.07058824 0.01568628]\n",
      "   ...\n",
      "   [0.86666673 0.60784316 0.41176474]\n",
      "   [0.8745099  0.60784316 0.4156863 ]\n",
      "   [0.8117648  0.54509807 0.3529412 ]]\n",
      "\n",
      "  [[0.40000004 0.05490196 0.04705883]\n",
      "   [0.7843138  0.12156864 0.04705883]\n",
      "   [0.90196085 0.09803922 0.03137255]\n",
      "   ...\n",
      "   [0.8705883  0.6117647  0.4156863 ]\n",
      "   [0.8352942  0.5686275  0.37647063]\n",
      "   [0.77647066 0.50980395 0.31764707]]\n",
      "\n",
      "  [[0.57254905 0.10196079 0.04705883]\n",
      "   [0.6666667  0.04705883 0.04313726]\n",
      "   [0.9333334  0.10588236 0.07058824]\n",
      "   ...\n",
      "   [0.8196079  0.5882353  0.42352945]\n",
      "   [0.7725491  0.53333336 0.34901962]\n",
      "   [0.72156864 0.427451   0.2627451 ]]]\n",
      "\n",
      "\n",
      " ...\n",
      "\n",
      "\n",
      " [[[0.34117648 0.31764707 0.31764707]\n",
      "   [0.4039216  0.34901962 0.3137255 ]\n",
      "   [0.5058824  0.45098042 0.40784317]\n",
      "   ...\n",
      "   [0.1254902  0.15294118 0.09019608]\n",
      "   [0.14117648 0.16470589 0.11764707]\n",
      "   [0.14509805 0.17254902 0.04313726]]\n",
      "\n",
      "  [[0.29411766 0.41960788 0.50980395]\n",
      "   [0.15686275 0.20392159 0.20392159]\n",
      "   [0.15686275 0.19215688 0.227451  ]\n",
      "   ...\n",
      "   [0.16470589 0.19607845 0.10588236]\n",
      "   [0.17254902 0.19607845 0.14901961]\n",
      "   [0.13333334 0.1764706  0.04313726]]\n",
      "\n",
      "  [[0.2509804  0.44705886 0.6392157 ]\n",
      "   [0.01960784 0.09019608 0.14509805]\n",
      "   [0.29411766 0.41176474 0.5058824 ]\n",
      "   ...\n",
      "   [0.15686275 0.19215688 0.07843138]\n",
      "   [0.10980393 0.13333334 0.08627451]\n",
      "   [0.12156864 0.16470589 0.09803922]]\n",
      "\n",
      "  ...\n",
      "\n",
      "  [[0.5411765  0.5137255  0.4901961 ]\n",
      "   [0.5568628  0.5294118  0.5058824 ]\n",
      "   [0.54901963 0.49411768 0.45882356]\n",
      "   ...\n",
      "   [0.52156866 0.48235297 0.44705886]\n",
      "   [0.48235297 0.454902   0.4156863 ]\n",
      "   [0.454902   0.43921572 0.3921569 ]]\n",
      "\n",
      "  [[0.5137255  0.4901961  0.43529415]\n",
      "   [0.33333334 0.30980393 0.25490198]\n",
      "   [0.3372549  0.32941177 0.2784314 ]\n",
      "   ...\n",
      "   [0.4784314  0.454902   0.40000004]\n",
      "   [0.45882356 0.45098042 0.3921569 ]\n",
      "   [0.3647059  0.34901962 0.3019608 ]]\n",
      "\n",
      "  [[0.30588236 0.28627452 0.20000002]\n",
      "   [0.34117648 0.31764707 0.2627451 ]\n",
      "   [0.43921572 0.40784317 0.35686275]\n",
      "   ...\n",
      "   [0.41960788 0.40784317 0.34117648]\n",
      "   [0.5019608  0.47058827 0.427451  ]\n",
      "   [0.454902   0.42352945 0.34901962]]]\n",
      "\n",
      "\n",
      " [[[0.02352941 0.02745098 0.00784314]\n",
      "   [0.10588236 0.10980393 0.09019608]\n",
      "   [0.17254902 0.15686275 0.14509805]\n",
      "   ...\n",
      "   [0.48627454 0.4666667  0.454902  ]\n",
      "   [0.48235297 0.46274513 0.45098042]\n",
      "   [0.47058827 0.454902   0.45098042]]\n",
      "\n",
      "  [[0.0509804  0.01960784 0.01176471]\n",
      "   [0.0509804  0.01960784 0.01176471]\n",
      "   [0.04313726 0.01176471 0.00392157]\n",
      "   ...\n",
      "   [0.47058827 0.45098042 0.43921572]\n",
      "   [0.4901961  0.47058827 0.45882356]\n",
      "   [0.4666667  0.43137258 0.43529415]]\n",
      "\n",
      "  [[0.06666667 0.01176471 0.01176471]\n",
      "   [0.05490196 0.         0.        ]\n",
      "   [0.0627451  0.01568628 0.01568628]\n",
      "   ...\n",
      "   [0.49411768 0.47450984 0.46274513]\n",
      "   [0.4901961  0.47058827 0.45882356]\n",
      "   [0.49803925 0.45098042 0.45882356]]\n",
      "\n",
      "  ...\n",
      "\n",
      "  [[0.07058824 0.09803922 0.06666667]\n",
      "   [0.         0.00784314 0.00392157]\n",
      "   [0.03529412 0.03529412 0.02745098]\n",
      "   ...\n",
      "   [0.10980393 0.12941177 0.14509805]\n",
      "   [0.08627451 0.1254902  0.16078432]\n",
      "   [0.30980393 0.2627451  0.2627451 ]]\n",
      "\n",
      "  [[0.0627451  0.10196079 0.06666667]\n",
      "   [0.03529412 0.05882353 0.0509804 ]\n",
      "   [0.02352941 0.01960784 0.01176471]\n",
      "   ...\n",
      "   [0.11764707 0.13725491 0.15294118]\n",
      "   [0.08627451 0.1254902  0.16078432]\n",
      "   [0.3019608  0.25490198 0.25490198]]\n",
      "\n",
      "  [[0.04313726 0.04313726 0.04313726]\n",
      "   [0.0509804  0.03529412 0.03921569]\n",
      "   [0.02745098 0.01176471 0.01568628]\n",
      "   ...\n",
      "   [0.16470589 0.19607845 0.20784315]\n",
      "   [0.08627451 0.15294118 0.18039216]\n",
      "   [0.33333334 0.26666668 0.23529413]]]\n",
      "\n",
      "\n",
      " [[[0.10980393 0.05882353 0.02745098]\n",
      "   [0.15294118 0.06666667 0.07450981]\n",
      "   [0.19607845 0.1137255  0.10196079]\n",
      "   ...\n",
      "   [0.24705884 0.08627451 0.11764707]\n",
      "   [0.2509804  0.16078432 0.19215688]\n",
      "   [0.1764706  0.10980393 0.07843138]]\n",
      "\n",
      "  [[0.15686275 0.08235294 0.10588236]\n",
      "   [0.18823531 0.10980393 0.15686275]\n",
      "   [0.15686275 0.07058824 0.07843138]\n",
      "   ...\n",
      "   [0.21960786 0.1137255  0.04705883]\n",
      "   [0.20784315 0.10196079 0.13725491]\n",
      "   [0.20784315 0.11764707 0.14117648]]\n",
      "\n",
      "  [[0.16862746 0.08235294 0.09019608]\n",
      "   [0.16862746 0.10980393 0.12941177]\n",
      "   [0.13333334 0.04313726 0.06666667]\n",
      "   ...\n",
      "   [0.2509804  0.16078432 0.18431373]\n",
      "   [0.2509804  0.1254902  0.16862746]\n",
      "   [0.20784315 0.11764707 0.08627451]]\n",
      "\n",
      "  ...\n",
      "\n",
      "  [[0.36862746 0.12156864 0.15686275]\n",
      "   [0.36078432 0.09411766 0.09803922]\n",
      "   [0.40784317 0.14509805 0.1137255 ]\n",
      "   ...\n",
      "   [0.40784317 0.12156864 0.09803922]\n",
      "   [0.48235297 0.16862746 0.20392159]\n",
      "   [0.46274513 0.16862746 0.19607845]]\n",
      "\n",
      "  [[0.35686275 0.1254902  0.21176472]\n",
      "   [0.41960788 0.15294118 0.19607845]\n",
      "   [0.4156863  0.10588236 0.19215688]\n",
      "   ...\n",
      "   [0.46274513 0.17254902 0.16078432]\n",
      "   [0.4431373  0.13725491 0.13725491]\n",
      "   [0.43529415 0.14117648 0.16862746]]\n",
      "\n",
      "  [[0.31764707 0.07058824 0.10588236]\n",
      "   [0.36862746 0.10588236 0.1764706 ]\n",
      "   [0.35686275 0.1137255  0.17254902]\n",
      "   ...\n",
      "   [0.45882356 0.13725491 0.16078432]\n",
      "   [0.454902   0.15294118 0.18431373]\n",
      "   [0.4039216  0.13333334 0.15294118]]]]\n",
      "labels batch :  [1. 0. 0. 1. 1. 1. 1. 1. 0. 1. 0. 1. 1. 1. 0. 0. 1. 1. 1. 1.]\n"
     ]
    }
   ],
   "source": [
    "for data_batch,labels_batch in train_generator:\n",
    "    print('data batch : ',data_batch)\n",
    "    print('labels batch : ',labels_batch)\n",
    "    break"
   ]
  },
  {
   "cell_type": "code",
   "execution_count": 31,
   "metadata": {},
   "outputs": [
    {
     "name": "stdout",
     "output_type": "stream",
     "text": [
      "Epoch 1/10\n",
      "100/100 [==============================] - 10s 100ms/step - loss: 0.7002 - acc: 0.5050 - val_loss: 0.6903 - val_acc: 0.5717\n",
      "Epoch 2/10\n",
      "100/100 [==============================] - 10s 97ms/step - loss: 0.6885 - acc: 0.5485 - val_loss: 0.6600 - val_acc: 0.5833\n",
      "Epoch 3/10\n",
      "100/100 [==============================] - 9s 94ms/step - loss: 0.6466 - acc: 0.6290 - val_loss: 0.6211 - val_acc: 0.6617\n",
      "Epoch 4/10\n",
      "100/100 [==============================] - 9s 88ms/step - loss: 0.5991 - acc: 0.6845 - val_loss: 0.6727 - val_acc: 0.6217\n",
      "Epoch 5/10\n",
      "100/100 [==============================] - 9s 90ms/step - loss: 0.5670 - acc: 0.7180 - val_loss: 0.5971 - val_acc: 0.6950\n",
      "Epoch 6/10\n",
      "100/100 [==============================] - 9s 89ms/step - loss: 0.5395 - acc: 0.7355 - val_loss: 0.5995 - val_acc: 0.6633\n",
      "Epoch 7/10\n",
      "100/100 [==============================] - 9s 94ms/step - loss: 0.4935 - acc: 0.7580 - val_loss: 0.5922 - val_acc: 0.7183\n",
      "Epoch 8/10\n",
      "100/100 [==============================] - 10s 99ms/step - loss: 0.4494 - acc: 0.7950 - val_loss: 0.6131 - val_acc: 0.7100\n",
      "Epoch 9/10\n",
      "100/100 [==============================] - 10s 98ms/step - loss: 0.3674 - acc: 0.8390 - val_loss: 0.6186 - val_acc: 0.7083\n",
      "Epoch 10/10\n",
      "100/100 [==============================] - 9s 91ms/step - loss: 0.3444 - acc: 0.8450 - val_loss: 0.6568 - val_acc: 0.6633\n"
     ]
    }
   ],
   "source": [
    "history=model.fit_generator(train_generator,steps_per_epoch=100,epochs=10,validation_data=validation_generator,validation_steps=50)"
   ]
  },
  {
   "cell_type": "code",
   "execution_count": 32,
   "metadata": {},
   "outputs": [],
   "source": [
    "model.save('cats_and_dogs_small_1.h5')"
   ]
  },
  {
   "cell_type": "code",
   "execution_count": 34,
   "metadata": {},
   "outputs": [
    {
     "data": {
      "image/png": "[encoded data removed]",
      "text/plain": [
       "<matplotlib.figure.Figure at 0x7ff385da3dd8>"
      ]
     },
     "metadata": {},
     "output_type": "display_data"
    },
    {
     "data": {
      "image/png": "[encoded data removed]",
      "text/plain": [
       "<matplotlib.figure.Figure at 0x7ff385d363c8>"
      ]
     },
     "metadata": {},
     "output_type": "display_data"
    }
   ],
   "source": [
    "import matplotlib.pyplot as plt\n",
    "\n",
    "acc=history.history['acc']\n",
    "val_acc=history.history['val_acc']\n",
    "loss=history.history['loss']\n",
    "val_loss=history.history['val_loss']\n",
    "\n",
    "epochs=range(1,len(acc)+1)\n",
    "plt.plot(epochs,acc,'bo',label='Training acc')\n",
    "plt.plot(epochs,val_acc,'b',label='Validation acc')\n",
    "plt.legend()\n",
    "plt.figure()\n",
    "plt.plot(epochs, loss,'bo',label='Training loss')\n",
    "plt.plot(epochs,val_loss,'b',label='Validation loss')\n",
    "plt.title('Training and validation loss')\n",
    "plt.legend()\n",
    "plt.show()"
   ]
  },
  {
   "cell_type": "code",
   "execution_count": 35,
   "metadata": {},
   "outputs": [],
   "source": [
    "datagen=ImageDataGenerator(\n",
    "rotation_range=40,\n",
    "width_shift_range=0.2,\n",
    "height_shift_range=0.2,\n",
    "shear_range=0.2,\n",
    "zoom_range=0.2,\n",
    "horizontal_flip=True,\n",
    "fill_mode='nearest')"
   ]
  },
  {
   "cell_type": "code",
   "execution_count": 38,
   "metadata": {},
   "outputs": [
    {
     "data": {
      "image/png": "[encoded data removed]",
      "text/plain": [
       "<matplotlib.figure.Figure at 0x7ff385305b70>"
      ]
     },
     "metadata": {},
     "output_type": "display_data"
    },
    {
     "data": {
      "image/png": "[encoded data removed]",
      "text/plain": [
       "<matplotlib.figure.Figure at 0x7ff39c228e80>"
      ]
     },
     "metadata": {},
     "output_type": "display_data"
    },
    {
     "data": {
      "image/png": "[encoded data removed]",
      "text/plain": [
       "<matplotlib.figure.Figure at 0x7ff385273c50>"
      ]
     },
     "metadata": {},
     "output_type": "display_data"
    },
    {
     "data": {
      "image/png": "[encoded data removed]",
      "text/plain": [
       "<matplotlib.figure.Figure at 0x7ff3851ceba8>"
      ]
     },
     "metadata": {},
     "output_type": "display_data"
    }
   ],
   "source": [
    "from keras.preprocessing import image\n",
    "fnames=[os.path.join(train_dogs_dir,fname) for fname in os.listdir(train_dogs_dir)]\n",
    "\n",
    "img_path=fnames[200]\n",
    "img=image.load_img(img_path,target_size=(64,64))\n",
    "x=image.img_to_array(img)\n",
    "x=x.reshape((1,)+x.shape)\n",
    "\n",
    "i=0\n",
    "for batch in datagen.flow(x,batch_size=1):\n",
    "    plt.figure(i)\n",
    "    imgplot=plt.imshow(image.array_to_img(batch[0]))\n",
    "    i+=1\n",
    "    if i%4==0:\n",
    "        break\n",
    "plt.show()"
   ]
  },
  {
   "cell_type": "code",
   "execution_count": 39,
   "metadata": {},
   "outputs": [],
   "source": [
    "model2=models.Sequential()\n",
    "model2.add(layers.Conv2D(32,(3,3),activation='relu',input_shape=(64,64,3)))\n",
    "model2.add(layers.MaxPooling2D(2,2))\n",
    "model2.add(layers.Conv2D(64,(3,3),activation='relu'))\n",
    "model2.add(layers.MaxPooling2D(2,2))\n",
    "model2.add(layers.Conv2D(128,(3,3),activation='relu'))\n",
    "model2.add(layers.MaxPooling2D(2,2))\n",
    "# model2.add(layers.Conv2D(128,(3,3),activation='relu'))\n",
    "# model2.add(layers.MaxPooling2D(2,2))\n",
    "model2.add(layers.Flatten())\n",
    "model2.add(layers.Dropout(0.2))\n",
    "model2.add(layers.Dense(512,activation='relu'))\n",
    "model2.add(layers.Dense(1,activation='sigmoid'))\n",
    "model2.compile(loss='binary_crossentropy',optimizer='adam',metrics=['acc'])"
   ]
  },
  {
   "cell_type": "code",
   "execution_count": 40,
   "metadata": {},
   "outputs": [
    {
     "name": "stdout",
     "output_type": "stream",
     "text": [
      "Found 2000 images belonging to 2 classes.\n",
      "Found 600 images belonging to 2 classes.\n"
     ]
    }
   ],
   "source": [
    "train_datagen=ImageDataGenerator(\n",
    "    rescale=1./255,\n",
    "    rotation_range=40,\n",
    "    width_shift_range=0.2,\n",
    "    shear_range=0.2,\n",
    "    zoom_range=0.2,\n",
    "    horizontal_flip=True)\n",
    "\n",
    "validation_datagen=ImageDataGenerator(rescale=.1/255)\n",
    "\n",
    "train_generator=train_datagen.flow_from_directory(train_dir,target_size=(64,64),batch_size=32,class_mode='binary')\n",
    "validation_generator=validation_datagen.flow_from_directory(validation_dir,target_size=(64,64),batch_size=32,class_mode='binary')\n"
   ]
  },
  {
   "cell_type": "code",
   "execution_count": 41,
   "metadata": {},
   "outputs": [
    {
     "name": "stdout",
     "output_type": "stream",
     "text": [
      "Epoch 1/10\n",
      "100/100 [==============================] - 15s 146ms/step - loss: 0.6973 - acc: 0.5006 - val_loss: 0.6933 - val_acc: 0.5000\n",
      "Epoch 2/10\n",
      "100/100 [==============================] - 14s 141ms/step - loss: 0.6746 - acc: 0.5919 - val_loss: 1.1216 - val_acc: 0.5000\n",
      "Epoch 3/10\n",
      "100/100 [==============================] - 15s 149ms/step - loss: 0.6403 - acc: 0.6300 - val_loss: 0.9726 - val_acc: 0.5000\n",
      "Epoch 4/10\n",
      "100/100 [==============================] - 17s 166ms/step - loss: 0.6106 - acc: 0.6687 - val_loss: 0.8803 - val_acc: 0.5000\n",
      "Epoch 5/10\n",
      "100/100 [==============================] - 14s 139ms/step - loss: 0.6005 - acc: 0.6800 - val_loss: 1.1263 - val_acc: 0.5000\n",
      "Epoch 6/10\n",
      "100/100 [==============================] - 15s 147ms/step - loss: 0.5911 - acc: 0.6875 - val_loss: 1.5040 - val_acc: 0.5000\n",
      "Epoch 7/10\n",
      "100/100 [==============================] - 15s 145ms/step - loss: 0.5549 - acc: 0.7200 - val_loss: 1.4325 - val_acc: 0.5000\n",
      "Epoch 8/10\n",
      "100/100 [==============================] - 15s 152ms/step - loss: 0.5521 - acc: 0.7241 - val_loss: 1.1834 - val_acc: 0.5000\n",
      "Epoch 9/10\n",
      "100/100 [==============================] - 14s 140ms/step - loss: 0.5432 - acc: 0.7212 - val_loss: 1.1315 - val_acc: 0.5000\n",
      "Epoch 10/10\n",
      "100/100 [==============================] - 14s 142ms/step - loss: 0.5139 - acc: 0.7431 - val_loss: 1.3051 - val_acc: 0.5000\n"
     ]
    }
   ],
   "source": [
    "history2=model2.fit_generator(train_generator,steps_per_epoch=100,epochs=10,validation_data=validation_generator,validation_steps=50)"
   ]
  },
  {
   "cell_type": "code",
   "execution_count": 42,
   "metadata": {},
   "outputs": [
    {
     "data": {
      "image/png": "[encoded data removed]",
      "text/plain": [
       "<matplotlib.figure.Figure at 0x7ff364566ef0>"
      ]
     },
     "metadata": {},
     "output_type": "display_data"
    },
    {
     "data": {
      "image/png": "[encoded data removed]",
      "text/plain": [
       "<matplotlib.figure.Figure at 0x7ff364509400>"
      ]
     },
     "metadata": {},
     "output_type": "display_data"
    }
   ],
   "source": [
    "acc=history2.history['acc']\n",
    "val_acc=history2.history['val_acc']\n",
    "loss=history2.history['loss']\n",
    "val_loss=history2.history['val_loss']\n",
    "\n",
    "epochs=range(1,len(acc)+1)\n",
    "plt.plot(epochs,acc,'bo',label='Training acc')\n",
    "plt.plot(epochs,val_acc,'b',label='Validation acc')\n",
    "plt.legend()\n",
    "plt.figure()\n",
    "plt.plot(epochs, loss,'bo',label='Training loss')\n",
    "plt.plot(epochs,val_loss,'b',label='Validation loss')\n",
    "plt.title('Training and validation loss with data Augmentation')\n",
    "plt.legend()\n",
    "plt.show()"
   ]
  },
  {
   "cell_type": "code",
   "execution_count": null,
   "metadata": {},
   "outputs": [],
   "source": [
    "model2.save('cats_and_dogs_small_2.h5')"
   ]
  },
  {
   "cell_type": "code",
   "execution_count": null,
   "metadata": {},
   "outputs": [],
   "source": []
  }
 ],
 "metadata": {
  "kernelspec": {
   "display_name": "Python 3",
   "language": "python",
   "name": "python3"
  },
  "language_info": {
   "codemirror_mode": {
    "name": "ipython",
    "version": 3
   },
   "file_extension": ".py",
   "mimetype": "text/x-python",
   "name": "python",
   "nbconvert_exporter": "python",
   "pygments_lexer": "ipython3",
   "version": "3.7.2"
  }
 },
 "nbformat": 4,
 "nbformat_minor": 2
}
